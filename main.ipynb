{
 "cells": [
  {
   "cell_type": "code",
   "execution_count": 1,
   "metadata": {},
   "outputs": [],
   "source": [
    "from user import *"
   ]
  },
  {
   "cell_type": "code",
   "execution_count": 2,
   "metadata": {},
   "outputs": [],
   "source": [
    "user_1 = User()"
   ]
  },
  {
   "cell_type": "code",
   "execution_count": 3,
   "metadata": {},
   "outputs": [],
   "source": [
    "user_1.login(\"Ana\")"
   ]
  },
  {
   "cell_type": "code",
   "execution_count": 4,
   "metadata": {},
   "outputs": [
    {
     "name": "stdout",
     "output_type": "stream",
     "text": [
      "Pacflix Plan List\n",
      "\n",
      "Basic Plan            Standard Plan                Premium Plan                                          Services\n",
      "--------------------  ---------------------------  ----------------------------------------------------  -----------------\n",
      "True                  True                         True                                                  Bisa Stream\n",
      "True                  True                         True                                                  Bisa Download\n",
      "True                  True                         True                                                  Kualitas SD\n",
      "False                 True                         True                                                  Kualitas HD\n",
      "False                 False                        True                                                  Kualitas UHD\n",
      "1                     2                            4                                                     Number of Devices\n",
      "3rd party Movie only  Basic Plan Content + Sports  Basic Plan + Standard Plan + PacFlix Original Series  Jenis Konten\n",
      "120000                160000                       200000                                                Harga\n"
     ]
    }
   ],
   "source": [
    "user_1.check_benefit()"
   ]
  },
  {
   "cell_type": "code",
   "execution_count": 5,
   "metadata": {},
   "outputs": [
    {
     "name": "stdout",
     "output_type": "stream",
     "text": [
      "User Ana sedang berlangganan:\n",
      "Standard Plan                Services\n",
      "---------------------------  -----------------\n",
      "True                         Bisa Stream\n",
      "True                         Bisa Download\n",
      "True                         Kualitas SD\n",
      "True                         Kualitas HD\n",
      "False                        Kualitas UHD\n",
      "2                            Number of Devices\n",
      "Basic Plan Content + Sports  Jenis Konten\n",
      "160000                       Harga\n"
     ]
    }
   ],
   "source": [
    "user_1.check_plan()"
   ]
  },
  {
   "cell_type": "code",
   "execution_count": 7,
   "metadata": {},
   "outputs": [
    {
     "name": "stdout",
     "output_type": "stream",
     "text": [
      "Anda tidak bisa melakukan downgrade\n"
     ]
    }
   ],
   "source": [
    "user_1.upgrade_plan(\"Standard Plan\")"
   ]
  },
  {
   "cell_type": "code",
   "execution_count": 3,
   "metadata": {},
   "outputs": [],
   "source": [
    "user_1.login(\"Shania\")"
   ]
  },
  {
   "cell_type": "code",
   "execution_count": 4,
   "metadata": {},
   "outputs": [],
   "source": [
    "user_1.current_plan"
   ]
  },
  {
   "cell_type": "code",
   "execution_count": 5,
   "metadata": {},
   "outputs": [
    {
     "name": "stdout",
     "output_type": "stream",
     "text": [
      "Harga yang harus dibayarkan dari Basic Plan adalah Rp 114000.0\n"
     ]
    }
   ],
   "source": [
    "user_1.subscribe_plan(\"Basic Plan\", \"rosy-123\")"
   ]
  },
  {
   "cell_type": "code",
   "execution_count": 6,
   "metadata": {},
   "outputs": [
    {
     "data": {
      "text/plain": [
       "{1: ['Rosy', 'Basic Plan', 13, 'rosy-123'],\n",
       " 2: ['Ana', 'Standard Plan', 8, 'ana-123'],\n",
       " 3: ['Agus', 'Premium Plan', 4, 'agus-123'],\n",
       " 4: ['Budi', 'Basic Plan', 10, 'budi-123'],\n",
       " 5: ['Shania', 'Basic Plan', 1, 'Shania-123']}"
      ]
     },
     "execution_count": 6,
     "metadata": {},
     "output_type": "execute_result"
    }
   ],
   "source": [
    "user_1.data"
   ]
  },
  {
   "cell_type": "code",
   "execution_count": 8,
   "metadata": {},
   "outputs": [],
   "source": [
    "user_1.login(\"Andi\")"
   ]
  },
  {
   "cell_type": "code",
   "execution_count": 9,
   "metadata": {},
   "outputs": [
    {
     "name": "stdout",
     "output_type": "stream",
     "text": [
      "Harga yang harus dibayarkan dari Standard Plan adalah Rp 160000\n"
     ]
    }
   ],
   "source": [
    "user_1.subscribe_plan(\"Standard Plan\", None)"
   ]
  },
  {
   "cell_type": "code",
   "execution_count": 10,
   "metadata": {},
   "outputs": [
    {
     "data": {
      "text/plain": [
       "{1: ['Rosy', 'Basic Plan', 13, 'rosy-123'],\n",
       " 2: ['Ana', 'Premium Plan', 8, 'ana-123'],\n",
       " 3: ['Agus', 'Premium Plan', 4, 'agus-123'],\n",
       " 4: ['Budi', 'Basic Plan', 10, 'budi-123'],\n",
       " 5: ['Andi', 'Standard Plan', 1, 'andi-123']}"
      ]
     },
     "execution_count": 10,
     "metadata": {},
     "output_type": "execute_result"
    }
   ],
   "source": [
    "user_1.data"
   ]
  },
  {
   "cell_type": "code",
   "execution_count": null,
   "metadata": {},
   "outputs": [],
   "source": []
  }
 ],
 "metadata": {
  "kernelspec": {
   "display_name": "base",
   "language": "python",
   "name": "python3"
  },
  "language_info": {
   "codemirror_mode": {
    "name": "ipython",
    "version": 3
   },
   "file_extension": ".py",
   "mimetype": "text/x-python",
   "name": "python",
   "nbconvert_exporter": "python",
   "pygments_lexer": "ipython3",
   "version": "3.11.7"
  },
  "orig_nbformat": 4
 },
 "nbformat": 4,
 "nbformat_minor": 2
}
